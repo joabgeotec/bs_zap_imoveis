{
 "cells": [
  {
   "cell_type": "markdown",
   "metadata": {},
   "source": [
    "### Setup"
   ]
  },
  {
   "cell_type": "code",
   "execution_count": null,
   "metadata": {},
   "outputs": [],
   "source": [
    "import requests\n",
    "from bs4 import BeautifulSoup"
   ]
  },
  {
   "cell_type": "code",
   "execution_count": null,
   "metadata": {},
   "outputs": [],
   "source": [
    "headers = {'User-Agent': 'Mozilla/5.0 (Macintosh; Intel Mac OS X 10_11_5) AppleWebKit/537.36 (KHTML, like Gecko) Chrome/50.0.2661.102 Safari/537.36'}\n",
    "base_site = \"https://www.zapimoveis.com.br/venda/imoveis/pb+joao-pessoa/?pagina=1&onde=,Para%C3%ADba,Jo%C3%A3o%20Pessoa,,,,BR%3EParaiba%3ENULL%3EJoao%20Pessoa,-7.119495,-34.845011&transacao=Venda&tipo=Im%C3%B3vel%20usado\""
   ]
  },
  {
   "cell_type": "code",
   "execution_count": null,
   "metadata": {},
   "outputs": [],
   "source": [
    "response = requests.get(base_site, headers=headers)\n",
    "response"
   ]
  },
  {
   "cell_type": "code",
   "execution_count": null,
   "metadata": {},
   "outputs": [],
   "source": [
    "html = response.content"
   ]
  },
  {
   "cell_type": "markdown",
   "metadata": {},
   "source": [
    "### Choosing a parser"
   ]
  },
  {
   "cell_type": "code",
   "execution_count": null,
   "metadata": {},
   "outputs": [],
   "source": [
    "soup = BeautifulSoup(html, 'lxml')"
   ]
  },
  {
   "cell_type": "markdown",
   "metadata": {},
   "source": [
    "### Obtaining the element containing all the data"
   ]
  },
  {
   "cell_type": "code",
   "execution_count": null,
   "metadata": {},
   "outputs": [],
   "source": [
    "divs = soup.find_all('div', {'class': 'card-listing'})\n",
    "divs"
   ]
  },
  {
   "cell_type": "markdown",
   "metadata": {},
   "source": [
    "### Extracting data"
   ]
  },
  {
   "cell_type": "code",
   "execution_count": null,
   "metadata": {},
   "outputs": [],
   "source": [
    "prices = [div.find(\"strong\").string.strip(\"\\n R$\") for div in divs]\n",
    "prices"
   ]
  },
  {
   "cell_type": "code",
   "execution_count": null,
   "metadata": {},
   "outputs": [],
   "source": [
    "addresses = [div.find(\"p\", {\"class\": \"simple-card__address\"}).string for div in divs]\n",
    "addresses"
   ]
  },
  {
   "cell_type": "code",
   "execution_count": null,
   "metadata": {},
   "outputs": [],
   "source": [
    "areas = [div.find(\"li\", {\"class\": \"feature__item text-small js-areas\"}).find_all(\"span\")[1].text.split()[0] for div in divs]\n",
    "areas"
   ]
  },
  {
   "cell_type": "code",
   "execution_count": null,
   "metadata": {},
   "outputs": [],
   "source": [
    "import pandas as pd"
   ]
  },
  {
   "cell_type": "code",
   "execution_count": null,
   "metadata": {},
   "outputs": [],
   "source": [
    "imoveis_info = pd.DataFrame()\n",
    "\n",
    "imoveis_info[\"preco\"] = prices\n",
    "imoveis_info[\"endereco\"] = addresses\n",
    "\n",
    "imoveis_info"
   ]
  },
  {
   "cell_type": "code",
   "execution_count": null,
   "metadata": {},
   "outputs": [],
   "source": [
    "# imoveis_info.to_csv(\"imoveis_info.csv\", index = False, header = True)"
   ]
  },
  {
   "cell_type": "code",
   "execution_count": null,
   "metadata": {},
   "outputs": [],
   "source": [
    "# imoveis_info.to_excel(\"imoveis_info.xlsx\", index = False, header = True)"
   ]
  },
  {
   "cell_type": "markdown",
   "metadata": {},
   "source": [
    "#### Search on multiple pages"
   ]
  },
  {
   "cell_type": "code",
   "execution_count": null,
   "metadata": {},
   "outputs": [],
   "source": [
    "url_pages = []\n",
    "\n",
    "# Mount link to pages on range of 2 to max 5, where the first page is disregarded\n",
    "for i in range(2,5):\n",
    "    url_pages.append(\"https://www.zapimoveis.com.br/venda/imoveis/pb+joao-pessoa/?pagina=\" + str(i) + \"&onde=,Para%C3%ADba,Jo%C3%A3o%20Pessoa,,,,BR%3EParaiba%3ENULL%3EJoao%20Pessoa,-7.119495,-34.845011&transacao=Venda&tipo=Im%C3%B3vel%20usado\")\n",
    "\n",
    "url_pages"
   ]
  },
  {
   "cell_type": "code",
   "execution_count": null,
   "metadata": {},
   "outputs": [],
   "source": [
    "i = 0\n",
    "\n",
    "for url in url_pages:\n",
    "    page = requests.get(url, headers=headers)\n",
    "    \n",
    "    if page.status_code == 200:\n",
    "        print(\"Get data from URL: {0}\".format(url))\n",
    "    else:\n",
    "        print('Status code {0}: Skipping URL #{1}: {2}'.format(page.status_code, i+1, url))\n",
    "        i = i+1\n",
    "        continue\n",
    "        \n",
    "    page_html = page.content\n",
    "    page_soup = BeautifulSoup(page_html, 'lxml')\n",
    "    \n",
    "    divs_page = page_soup.find_all('div', {'class': 'card-listing'})\n",
    "    \n",
    "    prices_page = [div_page.find(\"strong\").string.strip(\"\\n R$\") for div_page in divs_page]\n",
    "    addresses_page = [div_page.find(\"p\", {\"class\": \"simple-card__address\"}).string for div_page in divs_page]\n",
    "    \n",
    "    for price_page in prices_page:\n",
    "        prices.append(price_page)\n",
    "        \n",
    "    for addresse_page in addresses_page:\n",
    "        addresses.append(addresse_page)\n",
    "    \n",
    "    i = i+1\n",
    "    "
   ]
  },
  {
   "cell_type": "code",
   "execution_count": null,
   "metadata": {},
   "outputs": [],
   "source": [
    "imoveis_info_all = pd.DataFrame()\n",
    "\n",
    "imoveis_info_all[\"preco\"] = prices\n",
    "imoveis_info_all[\"endereco\"] = addresses\n",
    "\n",
    "pd.set_option(\"max_rows\", None)\n",
    "\n",
    "imoveis_info_all"
   ]
  },
  {
   "cell_type": "markdown",
   "metadata": {},
   "source": [
    "### Geocoding addresses"
   ]
  },
  {
   "cell_type": "code",
   "execution_count": null,
   "metadata": {},
   "outputs": [],
   "source": [
    "from geopy.geocoders import Nominatim"
   ]
  },
  {
   "cell_type": "code",
   "execution_count": null,
   "metadata": {},
   "outputs": [],
   "source": [
    "geolocator = Nominatim(user_agent=\"imoveis_zap_beautiful_soup\")"
   ]
  },
  {
   "cell_type": "code",
   "execution_count": null,
   "metadata": {},
   "outputs": [],
   "source": [
    "longitude = []\n",
    "latitude = []\n",
    "\n",
    "i = 1\n",
    "\n",
    "for address in addresses:\n",
    "    print(i)\n",
    "    try:\n",
    "        address_geo = geolocator.geocode(address)\n",
    "        if address_geo == None:\n",
    "            print(\"Endereço: {0} - Não encontrado\".format(address))\n",
    "            longitude_ = 0.0\n",
    "            latitude_ = 0.0\n",
    "            longitude.append(longitude_)\n",
    "            latitude.append(latitude_)\n",
    "            i = i+1\n",
    "            continue\n",
    "\n",
    "        print(\"Geocoding {0}\".format(address))\n",
    "        longitude_ = float(address_geo.longitude)\n",
    "        latitude_ = float(address_geo.latitude)\n",
    "\n",
    "        longitude.append(longitude_)\n",
    "        latitude.append(latitude_)\n",
    "    except:\n",
    "        print(\"Geocode Timeout\")\n",
    "        longitude_ = 0.0\n",
    "        latitude_ = 0.0\n",
    "        longitude.append(longitude_)\n",
    "        latitude.append(latitude_)\n",
    "    i = i+1"
   ]
  },
  {
   "cell_type": "code",
   "execution_count": null,
   "metadata": {
    "scrolled": true
   },
   "outputs": [],
   "source": [
    "imoveis_info_all[\"longitude\"] = longitude\n",
    "imoveis_info_all[\"latitude\"] = latitude\n",
    "\n",
    "imoveis_info_all"
   ]
  },
  {
   "cell_type": "code",
   "execution_count": null,
   "metadata": {},
   "outputs": [],
   "source": [
    "import folium"
   ]
  },
  {
   "cell_type": "code",
   "execution_count": null,
   "metadata": {},
   "outputs": [],
   "source": [
    "map = folium.Map(\n",
    "    location=[imoveis_info_all[\"latitude\"][0],imoveis_info_all[\"longitude\"][0]],\n",
    "    tiles='cartodbpositron',\n",
    "    zoom_start=12,\n",
    ")"
   ]
  },
  {
   "cell_type": "code",
   "execution_count": null,
   "metadata": {},
   "outputs": [],
   "source": [
    "imoveis_info_all.apply(lambda row:folium.CircleMarker(\n",
    "    location=[row[\"latitude\"], row[\"longitude\"]],\n",
    "    popup=row[\"endereco\"] + \"\\n <strong>\" + row[\"preco\"] +\"</strong>\",\n",
    "    fill=True\n",
    ").add_to(map), axis=1)\n",
    "map"
   ]
  }
 ],
 "metadata": {
  "kernelspec": {
   "display_name": "Python 3",
   "language": "python",
   "name": "python3"
  },
  "language_info": {
   "codemirror_mode": {
    "name": "ipython",
    "version": 3
   },
   "file_extension": ".py",
   "mimetype": "text/x-python",
   "name": "python",
   "nbconvert_exporter": "python",
   "pygments_lexer": "ipython3",
   "version": "3.7.6"
  }
 },
 "nbformat": 4,
 "nbformat_minor": 4
}
